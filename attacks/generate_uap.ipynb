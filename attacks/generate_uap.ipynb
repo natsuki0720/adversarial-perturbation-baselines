{
 "cells": [
  {
   "cell_type": "code",
   "execution_count": 6,
   "metadata": {},
   "outputs": [],
   "source": [
    "import sys\n",
    "import os\n",
    "sys.path.append(os.path.abspath(\"../\"))  # or \"../../\" depending on location\n",
    "os.environ[\"KMP_DUPLICATE_LIB_OK\"] = \"TRUE\""
   ]
  },
  {
   "cell_type": "code",
   "execution_count": 7,
   "metadata": {},
   "outputs": [],
   "source": [
    "import torch\n",
    "from torchvision import datasets, transforms\n",
    "from torch.utils.data import DataLoader, Subset\n",
    "import torch.nn as nn\n",
    "import torch.nn.functional as F\n",
    "from utils.load_models import set_device, get_CNN_small, get_CNN, get_resnet\n",
    "import numpy as np\n",
    "\n",
    "\n",
    "# ==========================\n",
    "# 変換定義（正規化なし）\n",
    "# ==========================\n",
    "transform = transforms.ToTensor()\n",
    "normalize = transforms.Normalize(mean=(0.4914, 0.4822, 0.4465),\n",
    "                                 std=(0.2023, 0.1994, 0.2010))\n",
    "\n",
    "# ==========================\n",
    "# CIFAR-10データ読み込み\n",
    "# ==========================\n",
    "\n",
    "# ダウンロード済みのデータを指定して読み込み\n",
    "root = \"../data/\"\n",
    "train_dataset = datasets.CIFAR10(\n",
    "    root=root, \n",
    "    train=True, \n",
    "    download=False,  \n",
    "    transform=transform\n",
    ")\n",
    "\n",
    "train_loader = DataLoader(train_dataset, batch_size=128, shuffle=True)\n",
    "subset_size = 10000\n",
    "indices = np.random.choice(len(train_dataset), subset_size, replace=False)\n",
    "\n",
    "# サブセットデータセットを作成\n",
    "small_train_dataset = Subset(train_dataset, indices)\n",
    "train_loader_small = DataLoader(small_train_dataset, batch_size=128, shuffle=True)\n",
    "\n",
    "\n",
    "# ==========================\n",
    "# UAP生成関数（正規化前に摂動を加える）\n",
    "# ==========================\n",
    "def generate_uap(model, dataloader, xi=2/255, max_iter=3, p_norm='inf', device='cuda'):\n",
    "    model.to(device)\n",
    "    model.eval()\n",
    "    delta = torch.zeros(1, 3, 32, 32).to(device)\n",
    "\n",
    "    for itr in range(max_iter):\n",
    "        print(f\"[{itr+1}/{max_iter}] Updating UAP...\")\n",
    "        for x, y in dataloader:\n",
    "            x, y = x.to(device), y.to(device)\n",
    "\n",
    "            # delta加算 → 正規化してモデルに渡す\n",
    "            x_adv = torch.clamp(x + delta, 0, 1)\n",
    "            x_adv = normalize(x_adv)\n",
    "\n",
    "            with torch.no_grad():\n",
    "                pred = model(x_adv).argmax(1)\n",
    "            mask = pred == y\n",
    "            if mask.sum() == 0:\n",
    "                continue\n",
    "\n",
    "            x_sel, y_sel = x[mask], y[mask]\n",
    "            x_sel.requires_grad = True\n",
    "\n",
    "            x_adv_sel = torch.clamp(x_sel + delta, 0, 1)\n",
    "            x_adv_sel = normalize(x_adv_sel)\n",
    "            out = model(x_adv_sel)\n",
    "            loss = F.cross_entropy(out, y_sel)\n",
    "            loss.backward()\n",
    "\n",
    "            grad = x_sel.grad.data\n",
    "            if p_norm == 'inf':\n",
    "                v = xi * torch.sign(grad)\n",
    "            elif p_norm == '2':\n",
    "                v = xi * grad / (grad.norm(p=2, dim=(1,2,3), keepdim=True) + 1e-10)\n",
    "            else:\n",
    "                raise ValueError(\"p_norm must be 'inf' or '2'\")\n",
    "\n",
    "            delta = delta + v.mean(0, keepdim=True)\n",
    "            delta = torch.clamp(delta, -xi, xi)\n",
    "\n",
    "    return delta.detach()\n"
   ]
  },
  {
   "cell_type": "code",
   "execution_count": 8,
   "metadata": {},
   "outputs": [
    {
     "name": "stdout",
     "output_type": "stream",
     "text": [
      "[1/3] Updating UAP...\n",
      "[2/3] Updating UAP...\n",
      "[3/3] Updating UAP...\n"
     ]
    }
   ],
   "source": [
    "# ==========================\n",
    "# UAP生成と保存\n",
    "# ==========================\n",
    "device = set_device()\n",
    "CNN_small = get_CNN_small().to(device)\n",
    "uap_delta_sCNN = generate_uap(CNN_small, train_loader_small, xi=8/255, max_iter=3, p_norm='inf', device=device)\n",
    "save_path = \"uap/uap_delta_CNN_small.pt\"\n",
    "os.makedirs(os.path.dirname(save_path), exist_ok=True)\n",
    "torch.save(uap_delta_sCNN, save_path)"
   ]
  },
  {
   "cell_type": "code",
   "execution_count": 9,
   "metadata": {},
   "outputs": [
    {
     "name": "stdout",
     "output_type": "stream",
     "text": [
      "[1/3] Updating UAP...\n",
      "[2/3] Updating UAP...\n",
      "[3/3] Updating UAP...\n"
     ]
    }
   ],
   "source": [
    "CNN = get_CNN().to(device)\n",
    "uap_delta_CNN = generate_uap(CNN, train_loader, xi=8/255, max_iter=3, p_norm='inf', device=device)\n",
    "save_path = \"uap/uap_delta_CNN.pt\"\n",
    "os.makedirs(os.path.dirname(save_path), exist_ok=True)\n",
    "torch.save(uap_delta_CNN, save_path)"
   ]
  },
  {
   "cell_type": "code",
   "execution_count": 10,
   "metadata": {},
   "outputs": [
    {
     "name": "stdout",
     "output_type": "stream",
     "text": [
      "[1/3] Updating UAP...\n",
      "[2/3] Updating UAP...\n",
      "[3/3] Updating UAP...\n"
     ]
    }
   ],
   "source": [
    "ResNet = get_resnet().to(device)\n",
    "uap_delta_resnet = generate_uap(ResNet, train_loader, xi=8/255, max_iter=3, p_norm='inf', device=device)\n",
    "save_path = \"uap/uap_delta_resnet.pt\"\n",
    "os.makedirs(os.path.dirname(save_path), exist_ok=True)\n",
    "torch.save(uap_delta_resnet, save_path)"
   ]
  }
 ],
 "metadata": {
  "kernelspec": {
   "display_name": "kisozemi",
   "language": "python",
   "name": "python3"
  },
  "language_info": {
   "codemirror_mode": {
    "name": "ipython",
    "version": 3
   },
   "file_extension": ".py",
   "mimetype": "text/x-python",
   "name": "python",
   "nbconvert_exporter": "python",
   "pygments_lexer": "ipython3",
   "version": "3.11.8"
  }
 },
 "nbformat": 4,
 "nbformat_minor": 2
}
