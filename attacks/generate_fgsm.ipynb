{
 "cells": [
  {
   "cell_type": "code",
   "execution_count": 8,
   "metadata": {},
   "outputs": [],
   "source": [
    "import sys\n",
    "import os\n",
    "sys.path.append(os.path.abspath(\"../\"))  # or \"../../\" depending on location"
   ]
  },
  {
   "cell_type": "code",
   "execution_count": 9,
   "metadata": {},
   "outputs": [],
   "source": [
    "import torch\n",
    "import torchvision.transforms as transforms\n",
    "import torchvision.datasets as datasets\n",
    "from torch.utils.data import DataLoader\n",
    "import torch.nn.functional as F\n",
    "from utils.load_models import get_CNN, get_CNN_small, get_resnet, set_device"
   ]
  },
  {
   "cell_type": "code",
   "execution_count": 14,
   "metadata": {},
   "outputs": [],
   "source": [
    "\n",
    "# --- 設定 ---\n",
    "epsilon = 0.03\n",
    "batch_size = 128\n",
    "device = torch.device(\"cuda\" if torch.cuda.is_available() else \"cpu\")\n",
    "save_path = \"../cifar10_fgsm_attack.pt\"\n",
    "\n",
    "# --- データ前処理（標準化なし） ---\n",
    "transform_plain = transforms.ToTensor()\n",
    "\n",
    "\n",
    "# ダウンロード済みのデータを指定して読み込み\n",
    "root = \"../data\"\n",
    "test_dataset = datasets.CIFAR10(\n",
    "    root=root, \n",
    "    train=False, \n",
    "    download=False, \n",
    "    transform=transform_plain\n",
    ")\n",
    "\n",
    "test_loader = DataLoader(test_dataset, batch_size=batch_size, shuffle=False)\n",
    "\n",
    "# --- FGSM攻撃関数 ---\n",
    "def fgsm_attack(model, images, labels, epsilon):\n",
    "    images = images.clone().detach().to(device)\n",
    "    labels = labels.to(device)\n",
    "    images.requires_grad = True\n",
    "    outputs = model(images)\n",
    "    loss = F.cross_entropy(outputs, labels)\n",
    "    model.zero_grad()\n",
    "    loss.backward()\n",
    "    grad_sign = images.grad.data.sign()\n",
    "    adv_images = images + epsilon * grad_sign\n",
    "    adv_images = torch.clamp(adv_images, 0, 1)\n",
    "    return adv_images.detach()\n",
    "\n",
    "# --- 敵対画像生成と保存 ---\n",
    "def generate_and_save_adversarial_dataset(model,save_path,device = \"cpu\",):\n",
    "    model.eval()\n",
    "    model.to(device)\n",
    "\n",
    "    orig_list = []\n",
    "    adv_list = []\n",
    "    label_list = []\n",
    "\n",
    "    for images, labels in test_loader:\n",
    "        adv_images = fgsm_attack(model, images, labels, epsilon)\n",
    "        orig_list.append(images.cpu())\n",
    "        adv_list.append(adv_images.cpu())\n",
    "        label_list.append(labels.cpu())\n",
    "\n",
    "    orig_tensor = torch.cat(orig_list)\n",
    "    adv_tensor = torch.cat(adv_list)\n",
    "    label_tensor = torch.cat(label_list)\n",
    "    \n",
    "    save_dir = os.path.dirname(save_path)\n",
    "    if save_dir and not os.path.exists(save_dir):\n",
    "        os.makedirs(save_dir, exist_ok=True)\n",
    "        \n",
    "    torch.save({\n",
    "        'original': orig_tensor,\n",
    "        'adversarial': adv_tensor,\n",
    "        'labels': label_tensor\n",
    "    }, save_path)\n",
    "\n",
    "    print(f\"Saved adversarial dataset to: {save_path}\")\n"
   ]
  },
  {
   "cell_type": "code",
   "execution_count": 15,
   "metadata": {},
   "outputs": [
    {
     "name": "stdout",
     "output_type": "stream",
     "text": [
      "Saved adversarial dataset to: fgsm/cifar10_fgsm_attack_byResNet.pt\n"
     ]
    }
   ],
   "source": [
    "device = set_device()\n",
    "resnet = get_resnet().to(device)\n",
    "save_path = \"fgsm/cifar10_fgsm_attack_byResNet.pt\"\n",
    "generate_and_save_adversarial_dataset(resnet,save_path=save_path,device=device)\n"
   ]
  },
  {
   "cell_type": "code",
   "execution_count": 16,
   "metadata": {},
   "outputs": [
    {
     "name": "stdout",
     "output_type": "stream",
     "text": [
      "Saved adversarial dataset to: fgsm/cifar10_fgsm_attack_byCNN.pt\n"
     ]
    }
   ],
   "source": [
    "CNN = get_CNN().to(device)\n",
    "save_path = \"fgsm/cifar10_fgsm_attack_byCNN.pt\"\n",
    "generate_and_save_adversarial_dataset(CNN,save_path=save_path,device=device)"
   ]
  },
  {
   "cell_type": "code",
   "execution_count": 17,
   "metadata": {},
   "outputs": [
    {
     "name": "stdout",
     "output_type": "stream",
     "text": [
      "Saved adversarial dataset to: fgsm/cifar10_fgsm_attack_byCNN_small.pt\n"
     ]
    }
   ],
   "source": [
    "CNN_small = get_CNN_small().to(device)\n",
    "save_path = \"fgsm/cifar10_fgsm_attack_byCNN_small.pt\"\n",
    "generate_and_save_adversarial_dataset(CNN,save_path=save_path,device=device)"
   ]
  }
 ],
 "metadata": {
  "kernelspec": {
   "display_name": "kisozemi",
   "language": "python",
   "name": "python3"
  },
  "language_info": {
   "codemirror_mode": {
    "name": "ipython",
    "version": 3
   },
   "file_extension": ".py",
   "mimetype": "text/x-python",
   "name": "python",
   "nbconvert_exporter": "python",
   "pygments_lexer": "ipython3",
   "version": "3.11.8"
  }
 },
 "nbformat": 4,
 "nbformat_minor": 2
}
