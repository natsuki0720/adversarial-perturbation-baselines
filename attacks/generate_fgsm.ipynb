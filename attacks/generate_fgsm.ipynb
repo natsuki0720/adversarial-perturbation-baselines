{
 "cells": [
  {
   "cell_type": "code",
   "execution_count": 7,
   "metadata": {},
   "outputs": [],
   "source": [
    "import sys\n",
    "import os\n",
    "sys.path.append(os.path.abspath(\"../\"))  # or \"../../\" depending on location"
   ]
  },
  {
   "cell_type": "code",
   "execution_count": null,
   "metadata": {},
   "outputs": [],
   "source": [
    "import torch\n",
    "import torchvision.transforms as transforms\n",
    "import torchvision.datasets as datasets\n",
    "from torch.utils.data import DataLoader\n",
    "import torch.nn.functional as F\n",
    "from utils.load_models import get_CNN, get_CNN_small, get_resnet"
   ]
  },
  {
   "cell_type": "code",
   "execution_count": null,
   "metadata": {},
   "outputs": [
    {
     "name": "stdout",
     "output_type": "stream",
     "text": [
      "Files already downloaded and verified\n"
     ]
    }
   ],
   "source": [
    "\n",
    "# --- 設定 ---\n",
    "epsilon = 0.03\n",
    "batch_size = 128\n",
    "device = torch.device(\"cuda\" if torch.cuda.is_available() else \"cpu\")\n",
    "save_path = \"../cifar10_fgsm_attack.pt\"\n",
    "\n",
    "# --- データ前処理（標準化なし） ---\n",
    "transform_plain = transforms.ToTensor()\n",
    "\n",
    "\n",
    "# ダウンロード済みのデータを指定して読み込み\n",
    "root = \"../data/cifar-10-batches-py\"\n",
    "test_dataset = datasets.CIFAR10(\n",
    "    root=root, \n",
    "    train=False, \n",
    "    download=False, \n",
    "    transform=transform_plain\n",
    ")\n",
    "\n",
    "test_loader = DataLoader(test_dataset, batch_size=batch_size, shuffle=False)\n",
    "\n",
    "# --- FGSM攻撃関数 ---\n",
    "def fgsm_attack(model, images, labels, epsilon):\n",
    "    images = images.clone().detach().to(device)\n",
    "    labels = labels.to(device)\n",
    "    images.requires_grad = True\n",
    "    outputs = model(images)\n",
    "    loss = F.cross_entropy(outputs, labels)\n",
    "    model.zero_grad()\n",
    "    loss.backward()\n",
    "    grad_sign = images.grad.data.sign()\n",
    "    adv_images = images + epsilon * grad_sign\n",
    "    adv_images = torch.clamp(adv_images, 0, 1)\n",
    "    return adv_images.detach()\n",
    "\n",
    "# --- 敵対画像生成と保存 ---\n",
    "def generate_and_save_adversarial_dataset(model,save_path,device = \"cpu\",):\n",
    "    model.eval()\n",
    "    model.to(device)\n",
    "\n",
    "    orig_list = []\n",
    "    adv_list = []\n",
    "    label_list = []\n",
    "\n",
    "    for images, labels in test_loader:\n",
    "        adv_images = fgsm_attack(model, images, labels, epsilon)\n",
    "        orig_list.append(images.cpu())\n",
    "        adv_list.append(adv_images.cpu())\n",
    "        label_list.append(labels.cpu())\n",
    "\n",
    "    orig_tensor = torch.cat(orig_list)\n",
    "    adv_tensor = torch.cat(adv_list)\n",
    "    label_tensor = torch.cat(label_list)\n",
    "\n",
    "    torch.save({\n",
    "        'original': orig_tensor,\n",
    "        'adversarial': adv_tensor,\n",
    "        'labels': label_tensor\n",
    "    }, save_path)\n",
    "\n",
    "    print(f\"Saved adversarial dataset to: {save_path}\")\n"
   ]
  },
  {
   "cell_type": "code",
   "execution_count": null,
   "metadata": {},
   "outputs": [
    {
     "name": "stderr",
     "output_type": "stream",
     "text": [
      "/var/folders/k3/b1t1gjg12pg0ycfdgpm2k7g00000gn/T/ipykernel_33466/1643701499.py:10: FutureWarning: You are using `torch.load` with `weights_only=False` (the current default value), which uses the default pickle module implicitly. It is possible to construct malicious pickle data which will execute arbitrary code during unpickling (See https://github.com/pytorch/pytorch/blob/main/SECURITY.md#untrusted-models for more details). In a future release, the default value for `weights_only` will be flipped to `True`. This limits the functions that could be executed during unpickling. Arbitrary objects will no longer be allowed to be loaded via this mode unless they are explicitly allowlisted by the user via `torch.serialization.add_safe_globals`. We recommend you start setting `weights_only=True` for any use case where you don't have full control of the loaded file. Please open an issue on GitHub for any issues related to this experimental feature.\n",
      "  model.load_state_dict(torch.load(\"resnet18_cifar10.pth\"))\n"
     ]
    },
    {
     "ename": "KeyboardInterrupt",
     "evalue": "",
     "output_type": "error",
     "traceback": [
      "\u001b[0;31m---------------------------------------------------------------------------\u001b[0m",
      "\u001b[0;31mKeyboardInterrupt\u001b[0m                         Traceback (most recent call last)",
      "Cell \u001b[0;32mIn[10], line 11\u001b[0m\n\u001b[1;32m      9\u001b[0m model \u001b[38;5;241m=\u001b[39m get_resnet18_for_cifar10()\n\u001b[1;32m     10\u001b[0m model\u001b[38;5;241m.\u001b[39mload_state_dict(torch\u001b[38;5;241m.\u001b[39mload(\u001b[38;5;124m\"\u001b[39m\u001b[38;5;124mresnet18_cifar10.pth\u001b[39m\u001b[38;5;124m\"\u001b[39m))\n\u001b[0;32m---> 11\u001b[0m \u001b[43mgenerate_and_save_adversarial_dataset\u001b[49m\u001b[43m(\u001b[49m\u001b[43mmodel\u001b[49m\u001b[43m,\u001b[49m\u001b[43msave_path\u001b[49m\u001b[38;5;241;43m=\u001b[39;49m\u001b[38;5;124;43m\"\u001b[39;49m\u001b[38;5;124;43m../cifar10_fgsm_attack_byResNet.pt\u001b[39;49m\u001b[38;5;124;43m\"\u001b[39;49m\u001b[43m,\u001b[49m\u001b[43mdevice\u001b[49m\u001b[38;5;241;43m=\u001b[39;49m\u001b[43mdevice\u001b[49m\u001b[43m)\u001b[49m\n",
      "Cell \u001b[0;32mIn[9], line 38\u001b[0m, in \u001b[0;36mgenerate_and_save_adversarial_dataset\u001b[0;34m(model, save_path, device)\u001b[0m\n\u001b[1;32m     36\u001b[0m     adv_images \u001b[38;5;241m=\u001b[39m fgsm_attack(model, images, labels, epsilon)\n\u001b[1;32m     37\u001b[0m     orig_list\u001b[38;5;241m.\u001b[39mappend(images\u001b[38;5;241m.\u001b[39mcpu())\n\u001b[0;32m---> 38\u001b[0m     adv_list\u001b[38;5;241m.\u001b[39mappend(\u001b[43madv_images\u001b[49m\u001b[38;5;241;43m.\u001b[39;49m\u001b[43mcpu\u001b[49m\u001b[43m(\u001b[49m\u001b[43m)\u001b[49m)\n\u001b[1;32m     39\u001b[0m     label_list\u001b[38;5;241m.\u001b[39mappend(labels\u001b[38;5;241m.\u001b[39mcpu())\n\u001b[1;32m     41\u001b[0m orig_tensor \u001b[38;5;241m=\u001b[39m torch\u001b[38;5;241m.\u001b[39mcat(orig_list)\n",
      "\u001b[0;31mKeyboardInterrupt\u001b[0m: "
     ]
    }
   ],
   "source": [
    "\n",
    "if torch.backends.mps.is_available():\n",
    "    device = torch.device(\"mps\")\n",
    "elif torch.cuda.is_available():\n",
    "    device = torch.device(\"cuda\")\n",
    "else:\n",
    "    device = torch.device(\"cpu\")\n",
    "model = get_resnet\n",
    "generate_and_save_adversarial_dataset(model,save_path=\"../cifar10_fgsm_attack_byResNet.pt\",device=device)\n"
   ]
  }
 ],
 "metadata": {
  "kernelspec": {
   "display_name": "kisozemi",
   "language": "python",
   "name": "python3"
  },
  "language_info": {
   "codemirror_mode": {
    "name": "ipython",
    "version": 3
   },
   "file_extension": ".py",
   "mimetype": "text/x-python",
   "name": "python",
   "nbconvert_exporter": "python",
   "pygments_lexer": "ipython3",
   "version": "3.11.8"
  }
 },
 "nbformat": 4,
 "nbformat_minor": 2
}
