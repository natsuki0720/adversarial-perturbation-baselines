{
 "cells": [
  {
   "cell_type": "code",
   "execution_count": 30,
   "metadata": {},
   "outputs": [],
   "source": [
    "import sys\n",
    "import os\n",
    "sys.path.append(os.path.abspath(\"../\"))  # or \"../../\" depending on location"
   ]
  },
  {
   "cell_type": "code",
   "execution_count": 31,
   "metadata": {},
   "outputs": [],
   "source": [
    "import torch\n",
    "from torchvision import datasets, transforms\n",
    "from torch.utils.data import DataLoader, Subset\n",
    "import torch.nn as nn\n",
    "import torch.nn.functional as F\n",
    "from utils.load_models import set_device, get_CNN_small, get_CNN, get_resnet\n",
    "import numpy as np\n",
    "from tqdm import tqdm"
   ]
  },
  {
   "cell_type": "code",
   "execution_count": 32,
   "metadata": {},
   "outputs": [],
   "source": [
    "# --- パラメータ設定 ---\n",
    "batch_size = 128\n",
    "epsilon = 1  # 摂動の最大幅\n",
    "alpha = 0.01   # 学習率\n",
    "num_epochs = 5\n",
    "patch_size = (8, 8)  # 左上に貼るパッチのサイズ\n",
    "device = set_device()"
   ]
  },
  {
   "cell_type": "code",
   "execution_count": 33,
   "metadata": {},
   "outputs": [],
   "source": [
    "\n",
    "# ==========================\n",
    "# 変換定義（正規化なし）\n",
    "# ==========================\n",
    "transform = transforms.ToTensor()\n",
    "normalize = transforms.Normalize(mean=(0.4914, 0.4822, 0.4465),\n",
    "                                 std=(0.2023, 0.1994, 0.2010))\n",
    "\n",
    "# ==========================\n",
    "# CIFAR-10データ読み込み\n",
    "# ==========================\n",
    "\n",
    "# ダウンロード済みのデータを指定して読み込み\n",
    "root = \"../data/\"\n",
    "train_dataset = datasets.CIFAR10(\n",
    "    root=root, \n",
    "    train=True, \n",
    "    download=False,  \n",
    "    transform=transform\n",
    ")\n",
    "\n",
    "train_loader = DataLoader(train_dataset, batch_size=128, shuffle=True)\n",
    "subset_size = 10000\n",
    "indices = np.random.choice(len(train_dataset), subset_size, replace=False)\n",
    "\n",
    "# サブセットデータセットを作成\n",
    "small_train_dataset = Subset(train_dataset, indices)\n",
    "train_loader_small = DataLoader(small_train_dataset, batch_size=128, shuffle=True)\n",
    "\n",
    "\n",
    "# --- パッチのマスク生成関数 ---\n",
    "def generate_mask(size=(8, 8), image_shape=(3, 32, 32)):\n",
    "    mask = torch.zeros(image_shape)\n",
    "    mask[:, 0:size[0], 0:size[1]] = 1.0\n",
    "    return mask\n",
    "\n",
    "# --- マスクとパッチ初期化 ---\n",
    "mask = generate_mask(size=patch_size).to(device)\n",
    "mask = mask.unsqueeze(0)  # [1, 3, 32, 32]\n",
    "delta = torch.zeros((1, 3, 32, 32), requires_grad=True, device=device)\n",
    "\n",
    "def train_local_uap(\n",
    "    model, \n",
    "    save_path,\n",
    "    train_dataset=None,\n",
    "    image_shape=(3, 32, 32),\n",
    "    patch_size=(8, 8),\n",
    "    epsilon=0.1,\n",
    "    alpha=0.01,\n",
    "    batch_size=128,\n",
    "    num_epochs=5,\n",
    "    device=None\n",
    "):\n",
    "    if device is None:\n",
    "        device = torch.device(\"cuda\" if torch.cuda.is_available() else \"cpu\")\n",
    "\n",
    "    model = model.to(device)\n",
    "    model.eval()\n",
    "\n",
    "    # --- データセットの準備（未指定ならCIFAR10を使う） ---\n",
    "    if train_dataset is None:\n",
    "        transform = transforms.ToTensor()\n",
    "        train_dataset = datasets.CIFAR10(\n",
    "            root=\"../data\", train=True, download=True, transform=transform\n",
    "        )\n",
    "    train_loader = DataLoader(train_dataset, batch_size=batch_size, shuffle=True)\n",
    "\n",
    "    # --- マスクと摂動の初期化 ---\n",
    "    mask = generate_mask(patch_size, image_shape).to(device).unsqueeze(0)  # [1, C, H, W]\n",
    "    delta = torch.zeros((1, *image_shape), requires_grad=True, device=device)\n",
    "\n",
    "    for epoch in range(num_epochs):\n",
    "        total_loss = 0\n",
    "        for images, labels in train_loader:\n",
    "            images, labels = images.to(device), labels.to(device)\n",
    "\n",
    "            adv_images = (images + delta * mask).clamp(0, 1)\n",
    "            outputs = model(adv_images)\n",
    "            loss = F.cross_entropy(outputs, labels)\n",
    "\n",
    "            loss.backward()\n",
    "            with torch.no_grad():\n",
    "                grad = delta.grad\n",
    "                delta += alpha * torch.sign(grad) * mask\n",
    "                delta.clamp_(-epsilon, epsilon)\n",
    "                delta.grad.zero_()\n",
    "            total_loss += loss.item()\n",
    "\n",
    "        print(f\"[Epoch {epoch+1}] Loss: {total_loss:.4f}\")\n",
    "\n",
    "    # --- 保存 ---\n",
    "    os.makedirs(os.path.dirname(save_path), exist_ok=True)\n",
    "    torch.save(delta.detach().cpu(), save_path)\n",
    "    print(f\"Local UAP saved to {save_path}\")\n",
    "\n",
    "    return delta.detach()\n",
    "def train_local_uap_with_confidence_penalty(\n",
    "    model,\n",
    "    save_path,\n",
    "    train_dataset=None,\n",
    "    image_shape=(3, 32, 32),\n",
    "    patch_size=(8, 8),\n",
    "    epsilon=0.1,\n",
    "    alpha=0.01,\n",
    "    batch_size=128,\n",
    "    num_epochs=5,\n",
    "    lambda_conf=0.5,\n",
    "    device=None,\n",
    "):\n",
    "    if device is None:\n",
    "        device = torch.device(\"cuda\" if torch.cuda.is_available() else \"cpu\")\n",
    "\n",
    "    model = model.to(device)\n",
    "    model.eval()\n",
    "\n",
    "    # --- データセット準備 ---\n",
    "    if train_dataset is None:\n",
    "        transform = transforms.ToTensor()\n",
    "        train_dataset = datasets.CIFAR10(\n",
    "            root=\"../data\", train=True, download=True, transform=transform\n",
    "        )\n",
    "    train_loader = DataLoader(train_dataset, batch_size=batch_size, shuffle=True)\n",
    "\n",
    "    # --- マスクと摂動の初期化 ---\n",
    "    def generate_mask(patch_size=(8, 8), image_shape=(3, 32, 32)):\n",
    "        mask = torch.zeros(image_shape)\n",
    "        h, w = patch_size\n",
    "        mask[:, :h, :w] = 1.0\n",
    "        return mask.unsqueeze(0).to(device)\n",
    "\n",
    "    mask = generate_mask(patch_size, image_shape)\n",
    "    delta = torch.zeros((1, *image_shape), requires_grad=True, device=device)\n",
    "\n",
    "    # --- 学習ループ ---\n",
    "    for epoch in range(num_epochs):\n",
    "        total_loss = 0.0\n",
    "        for images, labels in tqdm(train_loader, desc=f\"Epoch {epoch+1}/{num_epochs}\"):\n",
    "            images, labels = images.to(device), labels.to(device)\n",
    "            adv_images = (images + delta * mask).clamp(0, 1)\n",
    "            outputs = model(adv_images)\n",
    "\n",
    "            ce_loss = F.cross_entropy(outputs, labels)\n",
    "            probs = F.softmax(outputs, dim=1)\n",
    "            correct_class_probs = probs[range(len(labels)), labels]\n",
    "            conf_penalty = correct_class_probs.mean()\n",
    "\n",
    "            loss = ce_loss - lambda_conf * conf_penalty  # ← 修正済み符号\n",
    "\n",
    "            loss.backward()\n",
    "            with torch.no_grad():\n",
    "                grad = delta.grad\n",
    "                delta += alpha * torch.sign(grad) * mask\n",
    "                delta.clamp_(-epsilon, epsilon)\n",
    "                delta.grad.zero_()\n",
    "            total_loss += loss.item()\n",
    "\n",
    "        print(f\"[Epoch {epoch+1}] Loss: {total_loss:.4f}\")\n",
    "\n",
    "    # --- 保存 ---\n",
    "    os.makedirs(os.path.dirname(save_path), exist_ok=True)\n",
    "    torch.save(delta.detach().cpu(), save_path)\n",
    "    print(f\"Local UAP (with confidence penalty) saved to {save_path}\")\n",
    "\n",
    "    return delta.detach()\n",
    "\n",
    "def train_local_uap_with_entropy_maximization(\n",
    "    model,\n",
    "    save_path,\n",
    "    train_dataset=None,\n",
    "    image_shape=(3, 32, 32),\n",
    "    patch_size=(8, 8),\n",
    "    epsilon=0.1,\n",
    "    alpha=0.01,\n",
    "    batch_size=128,\n",
    "    num_epochs=5,\n",
    "    lambda_entropy=1.0,\n",
    "    device=None,\n",
    "):\n",
    "    if device is None:\n",
    "        device = torch.device(\"cuda\" if torch.cuda.is_available() else \"cpu\")\n",
    "\n",
    "    model = model.to(device)\n",
    "    model.eval()\n",
    "\n",
    "    # --- データセットの準備（未指定ならCIFAR10） ---\n",
    "    if train_dataset is None:\n",
    "        transform = transforms.ToTensor()\n",
    "        train_dataset = datasets.CIFAR10(\n",
    "            root=\"../data\", train=True, download=True, transform=transform\n",
    "        )\n",
    "    train_loader = DataLoader(train_dataset, batch_size=batch_size, shuffle=True)\n",
    "\n",
    "    # --- マスクと摂動の初期化 ---\n",
    "    def generate_mask(patch_size=(8, 8), image_shape=(3, 32, 32)):\n",
    "        mask = torch.zeros(image_shape)\n",
    "        h, w = patch_size\n",
    "        mask[:, :h, :w] = 1.0\n",
    "        return mask.unsqueeze(0).to(device)\n",
    "\n",
    "    mask = generate_mask(patch_size, image_shape)\n",
    "    delta = torch.zeros((1, *image_shape), requires_grad=True, device=device)\n",
    "\n",
    "    # --- 学習ループ ---\n",
    "    for epoch in range(num_epochs):\n",
    "        total_loss = 0.0\n",
    "        for images, _ in tqdm(train_loader, desc=f\"Epoch {epoch+1}/{num_epochs}\"):\n",
    "            images = images.to(device)\n",
    "            adv_images = (images + delta * mask).clamp(0, 1)\n",
    "            outputs = model(adv_images)\n",
    "\n",
    "            # --- softmax entropy 最大化 ---\n",
    "            probs = F.softmax(outputs, dim=1)\n",
    "            entropy = -(probs * probs.log()).sum(dim=1).mean()\n",
    "\n",
    "            # --- 損失（最大化したいのでそのまま） ---\n",
    "            loss = lambda_entropy * entropy\n",
    "\n",
    "            loss.backward()\n",
    "            with torch.no_grad():\n",
    "                grad = delta.grad\n",
    "                delta += alpha * torch.sign(grad) * mask\n",
    "                delta.clamp_(-epsilon, epsilon)\n",
    "                delta.grad.zero_()\n",
    "            total_loss += loss.item()\n",
    "\n",
    "        print(f\"[Epoch {epoch+1}] Entropy Loss: {total_loss:.4f}\")\n",
    "\n",
    "    # --- 保存 ---\n",
    "    os.makedirs(os.path.dirname(save_path), exist_ok=True)\n",
    "    torch.save(delta.detach().cpu(), save_path)\n",
    "    print(f\"Entropy-maximizing Local UAP saved to {save_path}\")\n",
    "\n",
    "    return delta.detach()"
   ]
  },
  {
   "cell_type": "code",
   "execution_count": 34,
   "metadata": {},
   "outputs": [
    {
     "name": "stderr",
     "output_type": "stream",
     "text": [
      "/Users/yamashitanatsuki/Documents/Python/portfolio_adverasrial_example/utils/load_models.py:9: FutureWarning: You are using `torch.load` with `weights_only=False` (the current default value), which uses the default pickle module implicitly. It is possible to construct malicious pickle data which will execute arbitrary code during unpickling (See https://github.com/pytorch/pytorch/blob/main/SECURITY.md#untrusted-models for more details). In a future release, the default value for `weights_only` will be flipped to `True`. This limits the functions that could be executed during unpickling. Arbitrary objects will no longer be allowed to be loaded via this mode unless they are explicitly allowlisted by the user via `torch.serialization.add_safe_globals`. We recommend you start setting `weights_only=True` for any use case where you don't have full control of the loaded file. Please open an issue on GitHub for any issues related to this experimental feature.\n",
      "  model.load_state_dict(torch.load(model_path, map_location=torch.device('cpu')))\n"
     ]
    },
    {
     "name": "stdout",
     "output_type": "stream",
     "text": [
      "[Epoch 1] Loss: 3751.9282\n",
      "[Epoch 2] Loss: 4253.8378\n",
      "[Epoch 3] Loss: 4268.6321\n",
      "[Epoch 4] Loss: 4270.2065\n",
      "[Epoch 5] Loss: 4270.5661\n",
      "Local UAP saved to local_uap/local_uap_delta_CNN.pt\n"
     ]
    },
    {
     "data": {
      "text/plain": [
       "tensor([[[[-1.0000,  0.7900, -0.0900,  ...,  0.0000,  0.0000,  0.0000],\n",
       "          [-1.0000, -0.3500, -0.3900,  ...,  0.0000,  0.0000,  0.0000],\n",
       "          [-1.0000, -0.1900,  0.2100,  ...,  0.0000,  0.0000,  0.0000],\n",
       "          ...,\n",
       "          [ 0.0000,  0.0000,  0.0000,  ...,  0.0000,  0.0000,  0.0000],\n",
       "          [ 0.0000,  0.0000,  0.0000,  ...,  0.0000,  0.0000,  0.0000],\n",
       "          [ 0.0000,  0.0000,  0.0000,  ...,  0.0000,  0.0000,  0.0000]],\n",
       "\n",
       "         [[ 0.9800, -0.2700, -1.0000,  ...,  0.0000,  0.0000,  0.0000],\n",
       "          [-0.8100,  0.1500,  0.1700,  ...,  0.0000,  0.0000,  0.0000],\n",
       "          [-0.7800,  0.0700,  0.5500,  ...,  0.0000,  0.0000,  0.0000],\n",
       "          ...,\n",
       "          [ 0.0000,  0.0000,  0.0000,  ...,  0.0000,  0.0000,  0.0000],\n",
       "          [ 0.0000,  0.0000,  0.0000,  ...,  0.0000,  0.0000,  0.0000],\n",
       "          [ 0.0000,  0.0000,  0.0000,  ...,  0.0000,  0.0000,  0.0000]],\n",
       "\n",
       "         [[ 0.5700, -1.0000, -0.6900,  ...,  0.0000,  0.0000,  0.0000],\n",
       "          [-0.8800,  0.6900, -0.9200,  ...,  0.0000,  0.0000,  0.0000],\n",
       "          [-1.0000, -0.5900,  0.7900,  ...,  0.0000,  0.0000,  0.0000],\n",
       "          ...,\n",
       "          [ 0.0000,  0.0000,  0.0000,  ...,  0.0000,  0.0000,  0.0000],\n",
       "          [ 0.0000,  0.0000,  0.0000,  ...,  0.0000,  0.0000,  0.0000],\n",
       "          [ 0.0000,  0.0000,  0.0000,  ...,  0.0000,  0.0000,  0.0000]]]],\n",
       "       device='mps:0')"
      ]
     },
     "execution_count": 34,
     "metadata": {},
     "output_type": "execute_result"
    }
   ],
   "source": [
    "cnn = get_CNN()\n",
    "cnn = cnn.to(device)\n",
    "cnn_local_uap_path = \"local_uap/local_uap_delta_CNN.pt\"\n",
    "train_local_uap(cnn,cnn_local_uap_path,train_dataset=train_dataset,epsilon=epsilon,device=device)"
   ]
  },
  {
   "cell_type": "code",
   "execution_count": 35,
   "metadata": {},
   "outputs": [
    {
     "name": "stderr",
     "output_type": "stream",
     "text": [
      "/Users/yamashitanatsuki/Documents/Python/portfolio_adverasrial_example/utils/load_models.py:16: FutureWarning: You are using `torch.load` with `weights_only=False` (the current default value), which uses the default pickle module implicitly. It is possible to construct malicious pickle data which will execute arbitrary code during unpickling (See https://github.com/pytorch/pytorch/blob/main/SECURITY.md#untrusted-models for more details). In a future release, the default value for `weights_only` will be flipped to `True`. This limits the functions that could be executed during unpickling. Arbitrary objects will no longer be allowed to be loaded via this mode unless they are explicitly allowlisted by the user via `torch.serialization.add_safe_globals`. We recommend you start setting `weights_only=True` for any use case where you don't have full control of the loaded file. Please open an issue on GitHub for any issues related to this experimental feature.\n",
      "  model.load_state_dict(torch.load(model_path, map_location=torch.device('cpu')))\n"
     ]
    },
    {
     "name": "stdout",
     "output_type": "stream",
     "text": [
      "[Epoch 1] Loss: 397.1076\n",
      "[Epoch 2] Loss: 436.9184\n",
      "[Epoch 3] Loss: 440.0053\n",
      "[Epoch 4] Loss: 442.4949\n",
      "[Epoch 5] Loss: 442.5877\n",
      "Local UAP saved to local_uap/local_uap_delta_CNN_small.pt\n"
     ]
    },
    {
     "data": {
      "text/plain": [
       "tensor([[[[-0.6800, -0.9900, -0.2500,  ...,  0.0000,  0.0000,  0.0000],\n",
       "          [ 0.2500,  1.0000, -0.7900,  ...,  0.0000,  0.0000,  0.0000],\n",
       "          [ 0.6900,  0.9600,  0.4100,  ...,  0.0000,  0.0000,  0.0000],\n",
       "          ...,\n",
       "          [ 0.0000,  0.0000,  0.0000,  ...,  0.0000,  0.0000,  0.0000],\n",
       "          [ 0.0000,  0.0000,  0.0000,  ...,  0.0000,  0.0000,  0.0000],\n",
       "          [ 0.0000,  0.0000,  0.0000,  ...,  0.0000,  0.0000,  0.0000]],\n",
       "\n",
       "         [[ 1.0000, -0.9900, -0.9900,  ...,  0.0000,  0.0000,  0.0000],\n",
       "          [-0.9400,  0.1500, -0.4700,  ...,  0.0000,  0.0000,  0.0000],\n",
       "          [-0.5100, -0.8300, -0.2900,  ...,  0.0000,  0.0000,  0.0000],\n",
       "          ...,\n",
       "          [ 0.0000,  0.0000,  0.0000,  ...,  0.0000,  0.0000,  0.0000],\n",
       "          [ 0.0000,  0.0000,  0.0000,  ...,  0.0000,  0.0000,  0.0000],\n",
       "          [ 0.0000,  0.0000,  0.0000,  ...,  0.0000,  0.0000,  0.0000]],\n",
       "\n",
       "         [[ 1.0000,  0.9900,  0.9900,  ...,  0.0000,  0.0000,  0.0000],\n",
       "          [ 0.9000,  1.0000,  0.9500,  ...,  0.0000,  0.0000,  0.0000],\n",
       "          [ 0.4700,  0.4300,  0.7100,  ...,  0.0000,  0.0000,  0.0000],\n",
       "          ...,\n",
       "          [ 0.0000,  0.0000,  0.0000,  ...,  0.0000,  0.0000,  0.0000],\n",
       "          [ 0.0000,  0.0000,  0.0000,  ...,  0.0000,  0.0000,  0.0000],\n",
       "          [ 0.0000,  0.0000,  0.0000,  ...,  0.0000,  0.0000,  0.0000]]]],\n",
       "       device='mps:0')"
      ]
     },
     "execution_count": 35,
     "metadata": {},
     "output_type": "execute_result"
    }
   ],
   "source": [
    "cnn_small = get_CNN_small()\n",
    "cnn_small = cnn_small.to(device)\n",
    "cnn_small_local_uap_path = \"local_uap/local_uap_delta_CNN_small.pt\"\n",
    "train_local_uap(cnn_small,cnn_small_local_uap_path,train_dataset=small_train_dataset,epsilon=epsilon,device=device)"
   ]
  },
  {
   "cell_type": "code",
   "execution_count": 36,
   "metadata": {},
   "outputs": [
    {
     "name": "stderr",
     "output_type": "stream",
     "text": [
      "Epoch 1/5: 100%|██████████| 391/391 [00:08<00:00, 46.13it/s]\n"
     ]
    },
    {
     "name": "stdout",
     "output_type": "stream",
     "text": [
      "[Epoch 1] Loss: 3860.3103\n"
     ]
    },
    {
     "name": "stderr",
     "output_type": "stream",
     "text": [
      "Epoch 2/5: 100%|██████████| 391/391 [00:08<00:00, 47.89it/s]\n"
     ]
    },
    {
     "name": "stdout",
     "output_type": "stream",
     "text": [
      "[Epoch 2] Loss: 4351.0924\n"
     ]
    },
    {
     "name": "stderr",
     "output_type": "stream",
     "text": [
      "Epoch 3/5: 100%|██████████| 391/391 [00:08<00:00, 46.88it/s]\n"
     ]
    },
    {
     "name": "stdout",
     "output_type": "stream",
     "text": [
      "[Epoch 3] Loss: 4371.3465\n"
     ]
    },
    {
     "name": "stderr",
     "output_type": "stream",
     "text": [
      "Epoch 4/5: 100%|██████████| 391/391 [00:08<00:00, 46.06it/s]\n"
     ]
    },
    {
     "name": "stdout",
     "output_type": "stream",
     "text": [
      "[Epoch 4] Loss: 4372.2564\n"
     ]
    },
    {
     "name": "stderr",
     "output_type": "stream",
     "text": [
      "Epoch 5/5: 100%|██████████| 391/391 [00:08<00:00, 46.97it/s]"
     ]
    },
    {
     "name": "stdout",
     "output_type": "stream",
     "text": [
      "[Epoch 5] Loss: 4372.1666\n",
      "Local UAP (with confidence penalty) saved to local_uap/local_uap_delta_CNN_withConfidencePenalty.pt\n"
     ]
    },
    {
     "name": "stderr",
     "output_type": "stream",
     "text": [
      "\n"
     ]
    },
    {
     "data": {
      "text/plain": [
       "tensor([[[[ 0.0300, -0.9800, -0.2500,  ...,  0.0000,  0.0000,  0.0000],\n",
       "          [ 0.4300, -0.4700, -0.9800,  ...,  0.0000,  0.0000,  0.0000],\n",
       "          [-0.3700,  1.0000, -0.0900,  ...,  0.0000,  0.0000,  0.0000],\n",
       "          ...,\n",
       "          [ 0.0000,  0.0000,  0.0000,  ...,  0.0000,  0.0000,  0.0000],\n",
       "          [ 0.0000,  0.0000,  0.0000,  ...,  0.0000,  0.0000,  0.0000],\n",
       "          [ 0.0000,  0.0000,  0.0000,  ...,  0.0000,  0.0000,  0.0000]],\n",
       "\n",
       "         [[-1.0000, -1.0000, -0.0500,  ...,  0.0000,  0.0000,  0.0000],\n",
       "          [ 1.0000, -1.0000, -1.0000,  ...,  0.0000,  0.0000,  0.0000],\n",
       "          [ 0.5300,  0.8800, -1.0000,  ...,  0.0000,  0.0000,  0.0000],\n",
       "          ...,\n",
       "          [ 0.0000,  0.0000,  0.0000,  ...,  0.0000,  0.0000,  0.0000],\n",
       "          [ 0.0000,  0.0000,  0.0000,  ...,  0.0000,  0.0000,  0.0000],\n",
       "          [ 0.0000,  0.0000,  0.0000,  ...,  0.0000,  0.0000,  0.0000]],\n",
       "\n",
       "         [[-0.9700, -1.0000, -1.0000,  ...,  0.0000,  0.0000,  0.0000],\n",
       "          [ 0.8800, -1.0000, -0.9900,  ...,  0.0000,  0.0000,  0.0000],\n",
       "          [-1.0000,  0.4100, -1.0000,  ...,  0.0000,  0.0000,  0.0000],\n",
       "          ...,\n",
       "          [ 0.0000,  0.0000,  0.0000,  ...,  0.0000,  0.0000,  0.0000],\n",
       "          [ 0.0000,  0.0000,  0.0000,  ...,  0.0000,  0.0000,  0.0000],\n",
       "          [ 0.0000,  0.0000,  0.0000,  ...,  0.0000,  0.0000,  0.0000]]]],\n",
       "       device='mps:0')"
      ]
     },
     "execution_count": 36,
     "metadata": {},
     "output_type": "execute_result"
    }
   ],
   "source": [
    "cnn = get_CNN()\n",
    "cnn = cnn.to(device)\n",
    "cnn_local_uap_path_withConfidencePenalty = \"local_uap/local_uap_delta_CNN_withConfidencePenalty.pt\"\n",
    "train_local_uap_with_confidence_penalty(\n",
    "    cnn,\n",
    "    cnn_local_uap_path_withConfidencePenalty,\n",
    "    train_dataset=train_dataset,\n",
    "    epsilon=epsilon,\n",
    "    device=device\n",
    ")\n"
   ]
  },
  {
   "cell_type": "code",
   "execution_count": 37,
   "metadata": {},
   "outputs": [
    {
     "name": "stderr",
     "output_type": "stream",
     "text": [
      "Epoch 1/5: 100%|██████████| 79/79 [00:01<00:00, 44.76it/s]\n"
     ]
    },
    {
     "name": "stdout",
     "output_type": "stream",
     "text": [
      "[Epoch 1] Loss: 391.0393\n"
     ]
    },
    {
     "name": "stderr",
     "output_type": "stream",
     "text": [
      "Epoch 2/5: 100%|██████████| 79/79 [00:01<00:00, 49.01it/s]\n"
     ]
    },
    {
     "name": "stdout",
     "output_type": "stream",
     "text": [
      "[Epoch 2] Loss: 429.1241\n"
     ]
    },
    {
     "name": "stderr",
     "output_type": "stream",
     "text": [
      "Epoch 3/5: 100%|██████████| 79/79 [00:01<00:00, 44.53it/s]\n"
     ]
    },
    {
     "name": "stdout",
     "output_type": "stream",
     "text": [
      "[Epoch 3] Loss: 432.0425\n"
     ]
    },
    {
     "name": "stderr",
     "output_type": "stream",
     "text": [
      "Epoch 4/5: 100%|██████████| 79/79 [00:01<00:00, 48.02it/s]\n"
     ]
    },
    {
     "name": "stdout",
     "output_type": "stream",
     "text": [
      "[Epoch 4] Loss: 432.6491\n"
     ]
    },
    {
     "name": "stderr",
     "output_type": "stream",
     "text": [
      "Epoch 5/5: 100%|██████████| 79/79 [00:01<00:00, 45.56it/s]\n"
     ]
    },
    {
     "name": "stdout",
     "output_type": "stream",
     "text": [
      "[Epoch 5] Loss: 433.1467\n",
      "Local UAP (with confidence penalty) saved to local_uap/local_uap_delta_CNN_small_withConfidencePenalty.pt\n"
     ]
    },
    {
     "data": {
      "text/plain": [
       "tensor([[[[-1.0000, -0.2900, -1.0000,  ...,  0.0000,  0.0000,  0.0000],\n",
       "          [ 0.2100, -0.1500,  0.1100,  ...,  0.0000,  0.0000,  0.0000],\n",
       "          [ 0.6100,  0.3100, -0.0300,  ...,  0.0000,  0.0000,  0.0000],\n",
       "          ...,\n",
       "          [ 0.0000,  0.0000,  0.0000,  ...,  0.0000,  0.0000,  0.0000],\n",
       "          [ 0.0000,  0.0000,  0.0000,  ...,  0.0000,  0.0000,  0.0000],\n",
       "          [ 0.0000,  0.0000,  0.0000,  ...,  0.0000,  0.0000,  0.0000]],\n",
       "\n",
       "         [[ 0.9700, -1.0000, -0.3100,  ...,  0.0000,  0.0000,  0.0000],\n",
       "          [-0.2700, -0.6300,  0.1900,  ...,  0.0000,  0.0000,  0.0000],\n",
       "          [-0.1300, -0.4700, -0.3700,  ...,  0.0000,  0.0000,  0.0000],\n",
       "          ...,\n",
       "          [ 0.0000,  0.0000,  0.0000,  ...,  0.0000,  0.0000,  0.0000],\n",
       "          [ 0.0000,  0.0000,  0.0000,  ...,  0.0000,  0.0000,  0.0000],\n",
       "          [ 0.0000,  0.0000,  0.0000,  ...,  0.0000,  0.0000,  0.0000]],\n",
       "\n",
       "         [[ 1.0000,  1.0000,  0.9800,  ...,  0.0000,  0.0000,  0.0000],\n",
       "          [ 1.0000,  1.0000,  0.9900,  ...,  0.0000,  0.0000,  0.0000],\n",
       "          [-0.4300,  0.6300,  0.8400,  ...,  0.0000,  0.0000,  0.0000],\n",
       "          ...,\n",
       "          [ 0.0000,  0.0000,  0.0000,  ...,  0.0000,  0.0000,  0.0000],\n",
       "          [ 0.0000,  0.0000,  0.0000,  ...,  0.0000,  0.0000,  0.0000],\n",
       "          [ 0.0000,  0.0000,  0.0000,  ...,  0.0000,  0.0000,  0.0000]]]],\n",
       "       device='mps:0')"
      ]
     },
     "execution_count": 37,
     "metadata": {},
     "output_type": "execute_result"
    }
   ],
   "source": [
    "cnn_small = get_CNN_small()\n",
    "cnn_small = cnn_small.to(device)\n",
    "cnn_small_local_uap_path_withConfidencePenalty = \"local_uap/local_uap_delta_CNN_small_withConfidencePenalty.pt\"\n",
    "train_local_uap_with_confidence_penalty(\n",
    "    cnn_small,\n",
    "    cnn_small_local_uap_path_withConfidencePenalty,\n",
    "    train_dataset=small_train_dataset,\n",
    "    epsilon=epsilon,\n",
    "    device=device\n",
    ")\n",
    "\n"
   ]
  },
  {
   "cell_type": "code",
   "execution_count": 38,
   "metadata": {},
   "outputs": [
    {
     "name": "stderr",
     "output_type": "stream",
     "text": [
      "Epoch 1/5: 100%|██████████| 79/79 [00:01<00:00, 58.82it/s]\n"
     ]
    },
    {
     "name": "stdout",
     "output_type": "stream",
     "text": [
      "[Epoch 1] Entropy Loss: 81.9725\n"
     ]
    },
    {
     "name": "stderr",
     "output_type": "stream",
     "text": [
      "Epoch 2/5: 100%|██████████| 79/79 [00:01<00:00, 57.77it/s]\n"
     ]
    },
    {
     "name": "stdout",
     "output_type": "stream",
     "text": [
      "[Epoch 2] Entropy Loss: 107.0222\n"
     ]
    },
    {
     "name": "stderr",
     "output_type": "stream",
     "text": [
      "Epoch 3/5: 100%|██████████| 79/79 [00:01<00:00, 56.69it/s]\n"
     ]
    },
    {
     "name": "stdout",
     "output_type": "stream",
     "text": [
      "[Epoch 3] Entropy Loss: 111.0173\n"
     ]
    },
    {
     "name": "stderr",
     "output_type": "stream",
     "text": [
      "Epoch 4/5: 100%|██████████| 79/79 [00:01<00:00, 57.84it/s]\n"
     ]
    },
    {
     "name": "stdout",
     "output_type": "stream",
     "text": [
      "[Epoch 4] Entropy Loss: 111.7099\n"
     ]
    },
    {
     "name": "stderr",
     "output_type": "stream",
     "text": [
      "Epoch 5/5: 100%|██████████| 79/79 [00:01<00:00, 60.94it/s]"
     ]
    },
    {
     "name": "stdout",
     "output_type": "stream",
     "text": [
      "[Epoch 5] Entropy Loss: 111.9693\n",
      "Entropy-maximizing Local UAP saved to local_uap/local_uap_delta_CNN_small_withEntropy.pt\n"
     ]
    },
    {
     "name": "stderr",
     "output_type": "stream",
     "text": [
      "\n"
     ]
    },
    {
     "data": {
      "text/plain": [
       "tensor([[[[ 0.7900, -0.8600,  0.9200,  ...,  0.0000,  0.0000,  0.0000],\n",
       "          [ 0.6900,  0.9800,  0.9700,  ...,  0.0000,  0.0000,  0.0000],\n",
       "          [ 0.1900,  0.7900, -0.7300,  ...,  0.0000,  0.0000,  0.0000],\n",
       "          ...,\n",
       "          [ 0.0000,  0.0000,  0.0000,  ...,  0.0000,  0.0000,  0.0000],\n",
       "          [ 0.0000,  0.0000,  0.0000,  ...,  0.0000,  0.0000,  0.0000],\n",
       "          [ 0.0000,  0.0000,  0.0000,  ...,  0.0000,  0.0000,  0.0000]],\n",
       "\n",
       "         [[ 0.9100, -0.7100,  0.1700,  ...,  0.0000,  0.0000,  0.0000],\n",
       "          [ 0.8200,  0.7500,  0.3700,  ...,  0.0000,  0.0000,  0.0000],\n",
       "          [ 0.6100,  0.3500, -0.4300,  ...,  0.0000,  0.0000,  0.0000],\n",
       "          ...,\n",
       "          [ 0.0000,  0.0000,  0.0000,  ...,  0.0000,  0.0000,  0.0000],\n",
       "          [ 0.0000,  0.0000,  0.0000,  ...,  0.0000,  0.0000,  0.0000],\n",
       "          [ 0.0000,  0.0000,  0.0000,  ...,  0.0000,  0.0000,  0.0000]],\n",
       "\n",
       "         [[ 0.4900, -0.9900, -1.0000,  ...,  0.0000,  0.0000,  0.0000],\n",
       "          [-1.0000,  0.4900, -0.9900,  ...,  0.0000,  0.0000,  0.0000],\n",
       "          [ 0.0300, -0.9600, -0.9900,  ...,  0.0000,  0.0000,  0.0000],\n",
       "          ...,\n",
       "          [ 0.0000,  0.0000,  0.0000,  ...,  0.0000,  0.0000,  0.0000],\n",
       "          [ 0.0000,  0.0000,  0.0000,  ...,  0.0000,  0.0000,  0.0000],\n",
       "          [ 0.0000,  0.0000,  0.0000,  ...,  0.0000,  0.0000,  0.0000]]]],\n",
       "       device='mps:0')"
      ]
     },
     "execution_count": 38,
     "metadata": {},
     "output_type": "execute_result"
    }
   ],
   "source": [
    "cnn_small_local_uap_path_withEntropy = \"local_uap/local_uap_delta_CNN_small_withEntropy.pt\"\n",
    "train_local_uap_with_entropy_maximization(\n",
    "    cnn_small,\n",
    "    cnn_small_local_uap_path_withEntropy,\n",
    "    train_dataset=small_train_dataset,\n",
    "    epsilon=epsilon,\n",
    "    device=device\n",
    ")"
   ]
  },
  {
   "cell_type": "code",
   "execution_count": 39,
   "metadata": {},
   "outputs": [
    {
     "name": "stderr",
     "output_type": "stream",
     "text": [
      "Epoch 1/5: 100%|██████████| 391/391 [00:06<00:00, 59.42it/s]\n"
     ]
    },
    {
     "name": "stdout",
     "output_type": "stream",
     "text": [
      "[Epoch 1] Entropy Loss: 639.2249\n"
     ]
    },
    {
     "name": "stderr",
     "output_type": "stream",
     "text": [
      "Epoch 2/5: 100%|██████████| 391/391 [00:06<00:00, 60.20it/s]\n"
     ]
    },
    {
     "name": "stdout",
     "output_type": "stream",
     "text": [
      "[Epoch 2] Entropy Loss: 673.1503\n"
     ]
    },
    {
     "name": "stderr",
     "output_type": "stream",
     "text": [
      "Epoch 3/5: 100%|██████████| 391/391 [00:06<00:00, 61.01it/s]\n"
     ]
    },
    {
     "name": "stdout",
     "output_type": "stream",
     "text": [
      "[Epoch 3] Entropy Loss: 674.8750\n"
     ]
    },
    {
     "name": "stderr",
     "output_type": "stream",
     "text": [
      "Epoch 4/5: 100%|██████████| 391/391 [00:06<00:00, 61.27it/s]\n"
     ]
    },
    {
     "name": "stdout",
     "output_type": "stream",
     "text": [
      "[Epoch 4] Entropy Loss: 675.0379\n"
     ]
    },
    {
     "name": "stderr",
     "output_type": "stream",
     "text": [
      "Epoch 5/5: 100%|██████████| 391/391 [00:06<00:00, 60.72it/s]"
     ]
    },
    {
     "name": "stdout",
     "output_type": "stream",
     "text": [
      "[Epoch 5] Entropy Loss: 675.0308\n",
      "Entropy-maximizing Local UAP saved to local_uap/local_uap_delta_CNN_withEntropy.pt\n"
     ]
    },
    {
     "name": "stderr",
     "output_type": "stream",
     "text": [
      "\n"
     ]
    },
    {
     "data": {
      "text/plain": [
       "tensor([[[[-0.9200,  0.7500,  0.9800,  ...,  0.0000,  0.0000,  0.0000],\n",
       "          [ 0.9800,  0.8500, -0.3200,  ...,  0.0000,  0.0000,  0.0000],\n",
       "          [ 0.9800,  1.0000, -0.8500,  ...,  0.0000,  0.0000,  0.0000],\n",
       "          ...,\n",
       "          [ 0.0000,  0.0000,  0.0000,  ...,  0.0000,  0.0000,  0.0000],\n",
       "          [ 0.0000,  0.0000,  0.0000,  ...,  0.0000,  0.0000,  0.0000],\n",
       "          [ 0.0000,  0.0000,  0.0000,  ...,  0.0000,  0.0000,  0.0000]],\n",
       "\n",
       "         [[ 1.0000, -0.9600, -0.9600,  ...,  0.0000,  0.0000,  0.0000],\n",
       "          [-0.6500, -0.8300,  1.0000,  ...,  0.0000,  0.0000,  0.0000],\n",
       "          [ 1.0000,  0.6700,  1.0000,  ...,  0.0000,  0.0000,  0.0000],\n",
       "          ...,\n",
       "          [ 0.0000,  0.0000,  0.0000,  ...,  0.0000,  0.0000,  0.0000],\n",
       "          [ 0.0000,  0.0000,  0.0000,  ...,  0.0000,  0.0000,  0.0000],\n",
       "          [ 0.0000,  0.0000,  0.0000,  ...,  0.0000,  0.0000,  0.0000]],\n",
       "\n",
       "         [[-0.9600, -1.0000, -0.1200,  ...,  0.0000,  0.0000,  0.0000],\n",
       "          [-1.0000, -1.0000,  0.9200,  ...,  0.0000,  0.0000,  0.0000],\n",
       "          [-0.9500, -0.1300, -0.9600,  ...,  0.0000,  0.0000,  0.0000],\n",
       "          ...,\n",
       "          [ 0.0000,  0.0000,  0.0000,  ...,  0.0000,  0.0000,  0.0000],\n",
       "          [ 0.0000,  0.0000,  0.0000,  ...,  0.0000,  0.0000,  0.0000],\n",
       "          [ 0.0000,  0.0000,  0.0000,  ...,  0.0000,  0.0000,  0.0000]]]],\n",
       "       device='mps:0')"
      ]
     },
     "execution_count": 39,
     "metadata": {},
     "output_type": "execute_result"
    }
   ],
   "source": [
    "cnn_local_uap_path_withEntropy = \"local_uap/local_uap_delta_CNN_withEntropy.pt\"\n",
    "train_local_uap_with_entropy_maximization(\n",
    "    cnn,\n",
    "    cnn_local_uap_path_withEntropy,\n",
    "    train_dataset=train_dataset,\n",
    "    epsilon=epsilon,\n",
    "    device=device\n",
    ")"
   ]
  }
 ],
 "metadata": {
  "kernelspec": {
   "display_name": "kisozemi",
   "language": "python",
   "name": "python3"
  },
  "language_info": {
   "codemirror_mode": {
    "name": "ipython",
    "version": 3
   },
   "file_extension": ".py",
   "mimetype": "text/x-python",
   "name": "python",
   "nbconvert_exporter": "python",
   "pygments_lexer": "ipython3",
   "version": "3.11.8"
  }
 },
 "nbformat": 4,
 "nbformat_minor": 2
}
